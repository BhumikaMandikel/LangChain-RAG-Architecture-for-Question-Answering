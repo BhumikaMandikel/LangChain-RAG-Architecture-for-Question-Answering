{
  "nbformat": 4,
  "nbformat_minor": 0,
  "metadata": {
    "colab": {
      "provenance": []
    },
    "kernelspec": {
      "name": "python3",
      "display_name": "Python 3"
    },
    "language_info": {
      "name": "python"
    }
  },
  "cells": [
    {
      "cell_type": "markdown",
      "source": [
        "**Installing all the required libraries**"
      ],
      "metadata": {
        "id": "3voTPEWcpFdX"
      }
    },
    {
      "cell_type": "code",
      "execution_count": null,
      "metadata": {
        "colab": {
          "base_uri": "https://localhost:8080/"
        },
        "id": "d4R9PX-ekZrc",
        "outputId": "fe5605fe-4105-47d8-e7d8-a26a1a020246"
      },
      "outputs": [
        {
          "output_type": "stream",
          "name": "stdout",
          "text": [
            "Requirement already satisfied: langchain in /usr/local/lib/python3.11/dist-packages (0.3.20)\n",
            "Requirement already satisfied: langchain-community in /usr/local/lib/python3.11/dist-packages (0.3.19)\n",
            "Requirement already satisfied: groq in /usr/local/lib/python3.11/dist-packages (0.19.0)\n",
            "Requirement already satisfied: pypdf in /usr/local/lib/python3.11/dist-packages (5.3.1)\n",
            "Requirement already satisfied: pdfplumber in /usr/local/lib/python3.11/dist-packages (0.11.5)\n",
            "Requirement already satisfied: faiss-cpu in /usr/local/lib/python3.11/dist-packages (1.10.0)\n",
            "Requirement already satisfied: sentence-transformers in /usr/local/lib/python3.11/dist-packages (3.4.1)\n",
            "Requirement already satisfied: tabula-py in /usr/local/lib/python3.11/dist-packages (2.10.0)\n",
            "Requirement already satisfied: camelot-py in /usr/local/lib/python3.11/dist-packages (0.11.0)\n",
            "Requirement already satisfied: langchain-core<1.0.0,>=0.3.41 in /usr/local/lib/python3.11/dist-packages (from langchain) (0.3.43)\n",
            "Requirement already satisfied: langchain-text-splitters<1.0.0,>=0.3.6 in /usr/local/lib/python3.11/dist-packages (from langchain) (0.3.6)\n",
            "Requirement already satisfied: langsmith<0.4,>=0.1.17 in /usr/local/lib/python3.11/dist-packages (from langchain) (0.3.13)\n",
            "Requirement already satisfied: pydantic<3.0.0,>=2.7.4 in /usr/local/lib/python3.11/dist-packages (from langchain) (2.10.6)\n",
            "Requirement already satisfied: SQLAlchemy<3,>=1.4 in /usr/local/lib/python3.11/dist-packages (from langchain) (2.0.38)\n",
            "Requirement already satisfied: requests<3,>=2 in /usr/local/lib/python3.11/dist-packages (from langchain) (2.32.3)\n",
            "Requirement already satisfied: PyYAML>=5.3 in /usr/local/lib/python3.11/dist-packages (from langchain) (6.0.2)\n",
            "Requirement already satisfied: aiohttp<4.0.0,>=3.8.3 in /usr/local/lib/python3.11/dist-packages (from langchain-community) (3.11.13)\n",
            "Requirement already satisfied: tenacity!=8.4.0,<10,>=8.1.0 in /usr/local/lib/python3.11/dist-packages (from langchain-community) (9.0.0)\n",
            "Requirement already satisfied: dataclasses-json<0.7,>=0.5.7 in /usr/local/lib/python3.11/dist-packages (from langchain-community) (0.6.7)\n",
            "Requirement already satisfied: pydantic-settings<3.0.0,>=2.4.0 in /usr/local/lib/python3.11/dist-packages (from langchain-community) (2.8.1)\n",
            "Requirement already satisfied: httpx-sse<1.0.0,>=0.4.0 in /usr/local/lib/python3.11/dist-packages (from langchain-community) (0.4.0)\n",
            "Requirement already satisfied: numpy<3,>=1.26.2 in /usr/local/lib/python3.11/dist-packages (from langchain-community) (1.26.4)\n",
            "Requirement already satisfied: anyio<5,>=3.5.0 in /usr/local/lib/python3.11/dist-packages (from groq) (3.7.1)\n",
            "Requirement already satisfied: distro<2,>=1.7.0 in /usr/local/lib/python3.11/dist-packages (from groq) (1.9.0)\n",
            "Requirement already satisfied: httpx<1,>=0.23.0 in /usr/local/lib/python3.11/dist-packages (from groq) (0.28.1)\n",
            "Requirement already satisfied: sniffio in /usr/local/lib/python3.11/dist-packages (from groq) (1.3.1)\n",
            "Requirement already satisfied: typing-extensions<5,>=4.10 in /usr/local/lib/python3.11/dist-packages (from groq) (4.12.2)\n",
            "Requirement already satisfied: pdfminer.six==20231228 in /usr/local/lib/python3.11/dist-packages (from pdfplumber) (20231228)\n",
            "Requirement already satisfied: Pillow>=9.1 in /usr/local/lib/python3.11/dist-packages (from pdfplumber) (11.1.0)\n",
            "Requirement already satisfied: pypdfium2>=4.18.0 in /usr/local/lib/python3.11/dist-packages (from pdfplumber) (4.30.1)\n",
            "Requirement already satisfied: charset-normalizer>=2.0.0 in /usr/local/lib/python3.11/dist-packages (from pdfminer.six==20231228->pdfplumber) (3.4.1)\n",
            "Requirement already satisfied: cryptography>=36.0.0 in /usr/local/lib/python3.11/dist-packages (from pdfminer.six==20231228->pdfplumber) (43.0.3)\n",
            "Requirement already satisfied: packaging in /usr/local/lib/python3.11/dist-packages (from faiss-cpu) (24.2)\n",
            "Requirement already satisfied: transformers<5.0.0,>=4.41.0 in /usr/local/lib/python3.11/dist-packages (from sentence-transformers) (4.48.3)\n",
            "Requirement already satisfied: tqdm in /usr/local/lib/python3.11/dist-packages (from sentence-transformers) (4.67.1)\n",
            "Requirement already satisfied: torch>=1.11.0 in /usr/local/lib/python3.11/dist-packages (from sentence-transformers) (2.5.1+cu124)\n",
            "Requirement already satisfied: scikit-learn in /usr/local/lib/python3.11/dist-packages (from sentence-transformers) (1.6.1)\n",
            "Requirement already satisfied: scipy in /usr/local/lib/python3.11/dist-packages (from sentence-transformers) (1.14.1)\n",
            "Requirement already satisfied: huggingface-hub>=0.20.0 in /usr/local/lib/python3.11/dist-packages (from sentence-transformers) (0.28.1)\n",
            "Requirement already satisfied: pandas>=0.25.3 in /usr/local/lib/python3.11/dist-packages (from tabula-py) (2.2.2)\n",
            "Requirement already satisfied: chardet>=3.0.4 in /usr/local/lib/python3.11/dist-packages (from camelot-py) (5.2.0)\n",
            "Requirement already satisfied: click>=6.7 in /usr/local/lib/python3.11/dist-packages (from camelot-py) (8.1.8)\n",
            "Requirement already satisfied: openpyxl>=2.5.8 in /usr/local/lib/python3.11/dist-packages (from camelot-py) (3.1.5)\n",
            "Requirement already satisfied: tabulate>=0.8.9 in /usr/local/lib/python3.11/dist-packages (from camelot-py) (0.9.0)\n",
            "Requirement already satisfied: aiohappyeyeballs>=2.3.0 in /usr/local/lib/python3.11/dist-packages (from aiohttp<4.0.0,>=3.8.3->langchain-community) (2.5.0)\n",
            "Requirement already satisfied: aiosignal>=1.1.2 in /usr/local/lib/python3.11/dist-packages (from aiohttp<4.0.0,>=3.8.3->langchain-community) (1.3.2)\n",
            "Requirement already satisfied: attrs>=17.3.0 in /usr/local/lib/python3.11/dist-packages (from aiohttp<4.0.0,>=3.8.3->langchain-community) (25.1.0)\n",
            "Requirement already satisfied: frozenlist>=1.1.1 in /usr/local/lib/python3.11/dist-packages (from aiohttp<4.0.0,>=3.8.3->langchain-community) (1.5.0)\n",
            "Requirement already satisfied: multidict<7.0,>=4.5 in /usr/local/lib/python3.11/dist-packages (from aiohttp<4.0.0,>=3.8.3->langchain-community) (6.1.0)\n",
            "Requirement already satisfied: propcache>=0.2.0 in /usr/local/lib/python3.11/dist-packages (from aiohttp<4.0.0,>=3.8.3->langchain-community) (0.3.0)\n",
            "Requirement already satisfied: yarl<2.0,>=1.17.0 in /usr/local/lib/python3.11/dist-packages (from aiohttp<4.0.0,>=3.8.3->langchain-community) (1.18.3)\n",
            "Requirement already satisfied: idna>=2.8 in /usr/local/lib/python3.11/dist-packages (from anyio<5,>=3.5.0->groq) (3.10)\n",
            "Requirement already satisfied: marshmallow<4.0.0,>=3.18.0 in /usr/local/lib/python3.11/dist-packages (from dataclasses-json<0.7,>=0.5.7->langchain-community) (3.26.1)\n",
            "Requirement already satisfied: typing-inspect<1,>=0.4.0 in /usr/local/lib/python3.11/dist-packages (from dataclasses-json<0.7,>=0.5.7->langchain-community) (0.9.0)\n",
            "Requirement already satisfied: certifi in /usr/local/lib/python3.11/dist-packages (from httpx<1,>=0.23.0->groq) (2025.1.31)\n",
            "Requirement already satisfied: httpcore==1.* in /usr/local/lib/python3.11/dist-packages (from httpx<1,>=0.23.0->groq) (1.0.7)\n",
            "Requirement already satisfied: h11<0.15,>=0.13 in /usr/local/lib/python3.11/dist-packages (from httpcore==1.*->httpx<1,>=0.23.0->groq) (0.14.0)\n",
            "Requirement already satisfied: filelock in /usr/local/lib/python3.11/dist-packages (from huggingface-hub>=0.20.0->sentence-transformers) (3.17.0)\n",
            "Requirement already satisfied: fsspec>=2023.5.0 in /usr/local/lib/python3.11/dist-packages (from huggingface-hub>=0.20.0->sentence-transformers) (2024.10.0)\n",
            "Requirement already satisfied: jsonpatch<2.0,>=1.33 in /usr/local/lib/python3.11/dist-packages (from langchain-core<1.0.0,>=0.3.41->langchain) (1.33)\n",
            "Requirement already satisfied: orjson<4.0.0,>=3.9.14 in /usr/local/lib/python3.11/dist-packages (from langsmith<0.4,>=0.1.17->langchain) (3.10.15)\n",
            "Requirement already satisfied: requests-toolbelt<2.0.0,>=1.0.0 in /usr/local/lib/python3.11/dist-packages (from langsmith<0.4,>=0.1.17->langchain) (1.0.0)\n",
            "Requirement already satisfied: zstandard<0.24.0,>=0.23.0 in /usr/local/lib/python3.11/dist-packages (from langsmith<0.4,>=0.1.17->langchain) (0.23.0)\n",
            "Requirement already satisfied: et-xmlfile in /usr/local/lib/python3.11/dist-packages (from openpyxl>=2.5.8->camelot-py) (2.0.0)\n",
            "Requirement already satisfied: python-dateutil>=2.8.2 in /usr/local/lib/python3.11/dist-packages (from pandas>=0.25.3->tabula-py) (2.8.2)\n",
            "Requirement already satisfied: pytz>=2020.1 in /usr/local/lib/python3.11/dist-packages (from pandas>=0.25.3->tabula-py) (2025.1)\n",
            "Requirement already satisfied: tzdata>=2022.7 in /usr/local/lib/python3.11/dist-packages (from pandas>=0.25.3->tabula-py) (2025.1)\n",
            "Requirement already satisfied: annotated-types>=0.6.0 in /usr/local/lib/python3.11/dist-packages (from pydantic<3.0.0,>=2.7.4->langchain) (0.7.0)\n",
            "Requirement already satisfied: pydantic-core==2.27.2 in /usr/local/lib/python3.11/dist-packages (from pydantic<3.0.0,>=2.7.4->langchain) (2.27.2)\n",
            "Requirement already satisfied: python-dotenv>=0.21.0 in /usr/local/lib/python3.11/dist-packages (from pydantic-settings<3.0.0,>=2.4.0->langchain-community) (1.0.1)\n",
            "Requirement already satisfied: urllib3<3,>=1.21.1 in /usr/local/lib/python3.11/dist-packages (from requests<3,>=2->langchain) (2.3.0)\n",
            "Requirement already satisfied: greenlet!=0.4.17 in /usr/local/lib/python3.11/dist-packages (from SQLAlchemy<3,>=1.4->langchain) (3.1.1)\n",
            "Requirement already satisfied: networkx in /usr/local/lib/python3.11/dist-packages (from torch>=1.11.0->sentence-transformers) (3.4.2)\n",
            "Requirement already satisfied: jinja2 in /usr/local/lib/python3.11/dist-packages (from torch>=1.11.0->sentence-transformers) (3.1.6)\n",
            "Requirement already satisfied: nvidia-cuda-nvrtc-cu12==12.4.127 in /usr/local/lib/python3.11/dist-packages (from torch>=1.11.0->sentence-transformers) (12.4.127)\n",
            "Requirement already satisfied: nvidia-cuda-runtime-cu12==12.4.127 in /usr/local/lib/python3.11/dist-packages (from torch>=1.11.0->sentence-transformers) (12.4.127)\n",
            "Requirement already satisfied: nvidia-cuda-cupti-cu12==12.4.127 in /usr/local/lib/python3.11/dist-packages (from torch>=1.11.0->sentence-transformers) (12.4.127)\n",
            "Requirement already satisfied: nvidia-cudnn-cu12==9.1.0.70 in /usr/local/lib/python3.11/dist-packages (from torch>=1.11.0->sentence-transformers) (9.1.0.70)\n",
            "Requirement already satisfied: nvidia-cublas-cu12==12.4.5.8 in /usr/local/lib/python3.11/dist-packages (from torch>=1.11.0->sentence-transformers) (12.4.5.8)\n",
            "Requirement already satisfied: nvidia-cufft-cu12==11.2.1.3 in /usr/local/lib/python3.11/dist-packages (from torch>=1.11.0->sentence-transformers) (11.2.1.3)\n",
            "Requirement already satisfied: nvidia-curand-cu12==10.3.5.147 in /usr/local/lib/python3.11/dist-packages (from torch>=1.11.0->sentence-transformers) (10.3.5.147)\n",
            "Requirement already satisfied: nvidia-cusolver-cu12==11.6.1.9 in /usr/local/lib/python3.11/dist-packages (from torch>=1.11.0->sentence-transformers) (11.6.1.9)\n",
            "Requirement already satisfied: nvidia-cusparse-cu12==12.3.1.170 in /usr/local/lib/python3.11/dist-packages (from torch>=1.11.0->sentence-transformers) (12.3.1.170)\n",
            "Requirement already satisfied: nvidia-nccl-cu12==2.21.5 in /usr/local/lib/python3.11/dist-packages (from torch>=1.11.0->sentence-transformers) (2.21.5)\n",
            "Requirement already satisfied: nvidia-nvtx-cu12==12.4.127 in /usr/local/lib/python3.11/dist-packages (from torch>=1.11.0->sentence-transformers) (12.4.127)\n",
            "Requirement already satisfied: nvidia-nvjitlink-cu12==12.4.127 in /usr/local/lib/python3.11/dist-packages (from torch>=1.11.0->sentence-transformers) (12.4.127)\n",
            "Requirement already satisfied: triton==3.1.0 in /usr/local/lib/python3.11/dist-packages (from torch>=1.11.0->sentence-transformers) (3.1.0)\n",
            "Requirement already satisfied: sympy==1.13.1 in /usr/local/lib/python3.11/dist-packages (from torch>=1.11.0->sentence-transformers) (1.13.1)\n",
            "Requirement already satisfied: mpmath<1.4,>=1.1.0 in /usr/local/lib/python3.11/dist-packages (from sympy==1.13.1->torch>=1.11.0->sentence-transformers) (1.3.0)\n",
            "Requirement already satisfied: regex!=2019.12.17 in /usr/local/lib/python3.11/dist-packages (from transformers<5.0.0,>=4.41.0->sentence-transformers) (2024.11.6)\n",
            "Requirement already satisfied: tokenizers<0.22,>=0.21 in /usr/local/lib/python3.11/dist-packages (from transformers<5.0.0,>=4.41.0->sentence-transformers) (0.21.0)\n",
            "Requirement already satisfied: safetensors>=0.4.1 in /usr/local/lib/python3.11/dist-packages (from transformers<5.0.0,>=4.41.0->sentence-transformers) (0.5.3)\n",
            "Requirement already satisfied: joblib>=1.2.0 in /usr/local/lib/python3.11/dist-packages (from scikit-learn->sentence-transformers) (1.4.2)\n",
            "Requirement already satisfied: threadpoolctl>=3.1.0 in /usr/local/lib/python3.11/dist-packages (from scikit-learn->sentence-transformers) (3.5.0)\n",
            "Requirement already satisfied: cffi>=1.12 in /usr/local/lib/python3.11/dist-packages (from cryptography>=36.0.0->pdfminer.six==20231228->pdfplumber) (1.17.1)\n",
            "Requirement already satisfied: jsonpointer>=1.9 in /usr/local/lib/python3.11/dist-packages (from jsonpatch<2.0,>=1.33->langchain-core<1.0.0,>=0.3.41->langchain) (3.0.0)\n",
            "Requirement already satisfied: six>=1.5 in /usr/local/lib/python3.11/dist-packages (from python-dateutil>=2.8.2->pandas>=0.25.3->tabula-py) (1.17.0)\n",
            "Requirement already satisfied: mypy-extensions>=0.3.0 in /usr/local/lib/python3.11/dist-packages (from typing-inspect<1,>=0.4.0->dataclasses-json<0.7,>=0.5.7->langchain-community) (1.0.0)\n",
            "Requirement already satisfied: MarkupSafe>=2.0 in /usr/local/lib/python3.11/dist-packages (from jinja2->torch>=1.11.0->sentence-transformers) (3.0.2)\n",
            "Requirement already satisfied: pycparser in /usr/local/lib/python3.11/dist-packages (from cffi>=1.12->cryptography>=36.0.0->pdfminer.six==20231228->pdfplumber) (2.22)\n"
          ]
        }
      ],
      "source": [
        "!pip install langchain langchain-community groq pypdf pdfplumber faiss-cpu sentence-transformers tabula-py camelot-py\n"
      ]
    },
    {
      "cell_type": "code",
      "source": [
        "!pip install --upgrade langchain\n"
      ],
      "metadata": {
        "colab": {
          "base_uri": "https://localhost:8080/"
        },
        "id": "flPbXzkvkbMk",
        "outputId": "4ec3841a-d436-4f5e-9555-2630c29f047f"
      },
      "execution_count": null,
      "outputs": [
        {
          "output_type": "stream",
          "name": "stdout",
          "text": [
            "Requirement already satisfied: langchain in /usr/local/lib/python3.11/dist-packages (0.3.20)\n",
            "Requirement already satisfied: langchain-core<1.0.0,>=0.3.41 in /usr/local/lib/python3.11/dist-packages (from langchain) (0.3.43)\n",
            "Requirement already satisfied: langchain-text-splitters<1.0.0,>=0.3.6 in /usr/local/lib/python3.11/dist-packages (from langchain) (0.3.6)\n",
            "Requirement already satisfied: langsmith<0.4,>=0.1.17 in /usr/local/lib/python3.11/dist-packages (from langchain) (0.3.13)\n",
            "Requirement already satisfied: pydantic<3.0.0,>=2.7.4 in /usr/local/lib/python3.11/dist-packages (from langchain) (2.10.6)\n",
            "Requirement already satisfied: SQLAlchemy<3,>=1.4 in /usr/local/lib/python3.11/dist-packages (from langchain) (2.0.38)\n",
            "Requirement already satisfied: requests<3,>=2 in /usr/local/lib/python3.11/dist-packages (from langchain) (2.32.3)\n",
            "Requirement already satisfied: PyYAML>=5.3 in /usr/local/lib/python3.11/dist-packages (from langchain) (6.0.2)\n",
            "Requirement already satisfied: tenacity!=8.4.0,<10.0.0,>=8.1.0 in /usr/local/lib/python3.11/dist-packages (from langchain-core<1.0.0,>=0.3.41->langchain) (9.0.0)\n",
            "Requirement already satisfied: jsonpatch<2.0,>=1.33 in /usr/local/lib/python3.11/dist-packages (from langchain-core<1.0.0,>=0.3.41->langchain) (1.33)\n",
            "Requirement already satisfied: packaging<25,>=23.2 in /usr/local/lib/python3.11/dist-packages (from langchain-core<1.0.0,>=0.3.41->langchain) (24.2)\n",
            "Requirement already satisfied: typing-extensions>=4.7 in /usr/local/lib/python3.11/dist-packages (from langchain-core<1.0.0,>=0.3.41->langchain) (4.12.2)\n",
            "Requirement already satisfied: httpx<1,>=0.23.0 in /usr/local/lib/python3.11/dist-packages (from langsmith<0.4,>=0.1.17->langchain) (0.28.1)\n",
            "Requirement already satisfied: orjson<4.0.0,>=3.9.14 in /usr/local/lib/python3.11/dist-packages (from langsmith<0.4,>=0.1.17->langchain) (3.10.15)\n",
            "Requirement already satisfied: requests-toolbelt<2.0.0,>=1.0.0 in /usr/local/lib/python3.11/dist-packages (from langsmith<0.4,>=0.1.17->langchain) (1.0.0)\n",
            "Requirement already satisfied: zstandard<0.24.0,>=0.23.0 in /usr/local/lib/python3.11/dist-packages (from langsmith<0.4,>=0.1.17->langchain) (0.23.0)\n",
            "Requirement already satisfied: annotated-types>=0.6.0 in /usr/local/lib/python3.11/dist-packages (from pydantic<3.0.0,>=2.7.4->langchain) (0.7.0)\n",
            "Requirement already satisfied: pydantic-core==2.27.2 in /usr/local/lib/python3.11/dist-packages (from pydantic<3.0.0,>=2.7.4->langchain) (2.27.2)\n",
            "Requirement already satisfied: charset-normalizer<4,>=2 in /usr/local/lib/python3.11/dist-packages (from requests<3,>=2->langchain) (3.4.1)\n",
            "Requirement already satisfied: idna<4,>=2.5 in /usr/local/lib/python3.11/dist-packages (from requests<3,>=2->langchain) (3.10)\n",
            "Requirement already satisfied: urllib3<3,>=1.21.1 in /usr/local/lib/python3.11/dist-packages (from requests<3,>=2->langchain) (2.3.0)\n",
            "Requirement already satisfied: certifi>=2017.4.17 in /usr/local/lib/python3.11/dist-packages (from requests<3,>=2->langchain) (2025.1.31)\n",
            "Requirement already satisfied: greenlet!=0.4.17 in /usr/local/lib/python3.11/dist-packages (from SQLAlchemy<3,>=1.4->langchain) (3.1.1)\n",
            "Requirement already satisfied: anyio in /usr/local/lib/python3.11/dist-packages (from httpx<1,>=0.23.0->langsmith<0.4,>=0.1.17->langchain) (3.7.1)\n",
            "Requirement already satisfied: httpcore==1.* in /usr/local/lib/python3.11/dist-packages (from httpx<1,>=0.23.0->langsmith<0.4,>=0.1.17->langchain) (1.0.7)\n",
            "Requirement already satisfied: h11<0.15,>=0.13 in /usr/local/lib/python3.11/dist-packages (from httpcore==1.*->httpx<1,>=0.23.0->langsmith<0.4,>=0.1.17->langchain) (0.14.0)\n",
            "Requirement already satisfied: jsonpointer>=1.9 in /usr/local/lib/python3.11/dist-packages (from jsonpatch<2.0,>=1.33->langchain-core<1.0.0,>=0.3.41->langchain) (3.0.0)\n",
            "Requirement already satisfied: sniffio>=1.1 in /usr/local/lib/python3.11/dist-packages (from anyio->httpx<1,>=0.23.0->langsmith<0.4,>=0.1.17->langchain) (1.3.1)\n"
          ]
        }
      ]
    },
    {
      "cell_type": "code",
      "source": [
        "!pip install groq\n"
      ],
      "metadata": {
        "colab": {
          "base_uri": "https://localhost:8080/"
        },
        "id": "3SAZtXFIklOj",
        "outputId": "0359ca4a-7eb2-4f9a-85c6-fc07bd9cfca8"
      },
      "execution_count": null,
      "outputs": [
        {
          "output_type": "stream",
          "name": "stdout",
          "text": [
            "Requirement already satisfied: groq in /usr/local/lib/python3.11/dist-packages (0.19.0)\n",
            "Requirement already satisfied: anyio<5,>=3.5.0 in /usr/local/lib/python3.11/dist-packages (from groq) (3.7.1)\n",
            "Requirement already satisfied: distro<2,>=1.7.0 in /usr/local/lib/python3.11/dist-packages (from groq) (1.9.0)\n",
            "Requirement already satisfied: httpx<1,>=0.23.0 in /usr/local/lib/python3.11/dist-packages (from groq) (0.28.1)\n",
            "Requirement already satisfied: pydantic<3,>=1.9.0 in /usr/local/lib/python3.11/dist-packages (from groq) (2.10.6)\n",
            "Requirement already satisfied: sniffio in /usr/local/lib/python3.11/dist-packages (from groq) (1.3.1)\n",
            "Requirement already satisfied: typing-extensions<5,>=4.10 in /usr/local/lib/python3.11/dist-packages (from groq) (4.12.2)\n",
            "Requirement already satisfied: idna>=2.8 in /usr/local/lib/python3.11/dist-packages (from anyio<5,>=3.5.0->groq) (3.10)\n",
            "Requirement already satisfied: certifi in /usr/local/lib/python3.11/dist-packages (from httpx<1,>=0.23.0->groq) (2025.1.31)\n",
            "Requirement already satisfied: httpcore==1.* in /usr/local/lib/python3.11/dist-packages (from httpx<1,>=0.23.0->groq) (1.0.7)\n",
            "Requirement already satisfied: h11<0.15,>=0.13 in /usr/local/lib/python3.11/dist-packages (from httpcore==1.*->httpx<1,>=0.23.0->groq) (0.14.0)\n",
            "Requirement already satisfied: annotated-types>=0.6.0 in /usr/local/lib/python3.11/dist-packages (from pydantic<3,>=1.9.0->groq) (0.7.0)\n",
            "Requirement already satisfied: pydantic-core==2.27.2 in /usr/local/lib/python3.11/dist-packages (from pydantic<3,>=1.9.0->groq) (2.27.2)\n"
          ]
        }
      ]
    },
    {
      "cell_type": "markdown",
      "source": [
        "**Importing the required Libraries**"
      ],
      "metadata": {
        "id": "23loSrnBpVqQ"
      }
    },
    {
      "cell_type": "code",
      "source": [
        "from groq import Groq\n",
        "import os\n",
        "import json\n",
        "import pdfplumber\n",
        "import faiss\n",
        "import numpy as np\n",
        "from sentence_transformers import SentenceTransformer\n",
        "from langchain.vectorstores import FAISS\n",
        "from langchain.text_splitter import RecursiveCharacterTextSplitter\n",
        "from groq import Groq\n"
      ],
      "metadata": {
        "id": "CUH_2jT7konB"
      },
      "execution_count": null,
      "outputs": []
    },
    {
      "cell_type": "markdown",
      "source": [
        "**Set Groq API Key: It has been enabled as a secret key**\n",
        "\n"
      ],
      "metadata": {
        "id": "eyDpjvwtrcX-"
      }
    },
    {
      "cell_type": "code",
      "source": [
        "from google.colab import userdata\n",
        "os.environ[\"GROQ_API_KEY\"] = userdata.get('GROQ_API_KEY')"
      ],
      "metadata": {
        "id": "q1gtsY3grb5t"
      },
      "execution_count": null,
      "outputs": []
    },
    {
      "cell_type": "markdown",
      "source": [
        "Extraction of Data for storing"
      ],
      "metadata": {
        "id": "xgbjhP7PtpeV"
      }
    },
    {
      "cell_type": "code",
      "source": [
        "# Paths to PDF documents\n",
        "pdf_files = [\"/content/combined_document_10.pdf\"]  #This is because I can later try for other documents so kept it in a list format.\n",
        "\n",
        "# Extract text and tables using pdfplumber\n",
        "#on research i figured that pdfplumber was doing a better job on extracting tables, camelot-py does a good job in extracting table structure like column\n",
        "#wise information but doesnt capture the lateral columns info that well to get proper table structure and tabula-py was getting the table structure pretty well\n",
        "#but didnt identify the column names properly as it is not gridded table in all cases.\n",
        "documents = []\n",
        "table_texts = []\n",
        "\n",
        "for pdf in pdf_files:\n",
        "    with pdfplumber.open(pdf) as pdf_reader:\n",
        "        for page in pdf_reader.pages:\n",
        "            # Extract text from the page\n",
        "            text = page.extract_text()\n",
        "            if text:\n",
        "                documents.append(text)\n",
        "\n",
        "            # Extract tables using pdfplumber\n",
        "            tables = page.extract_tables()\n",
        "            for table in tables:\n",
        "                table_texts.append(\"\\n\".join([\" | \".join(row) for row in table]))  # Format table data\n",
        "\n",
        "# Combine extracted text and tables\n",
        "full_text = \"\\n\".join(documents)\n",
        "full_table_text = \"\\n\".join(table_texts)\n",
        "combined_text = full_text + \"\\n\" + full_table_text  # Final combined text\n"
      ],
      "metadata": {
        "id": "tPvLoeccqT83"
      },
      "execution_count": null,
      "outputs": []
    },
    {
      "cell_type": "markdown",
      "source": [
        "**Splits text into chunks and embeds them using SentenceTransformer**"
      ],
      "metadata": {
        "id": "diCh-HJFt1M8"
      }
    },
    {
      "cell_type": "code",
      "source": [
        "# Preprocess text and split into chunks\n",
        "text_splitter = RecursiveCharacterTextSplitter(chunk_size=500, chunk_overlap=100)\n",
        "text_chunks = text_splitter.split_text(combined_text)"
      ],
      "metadata": {
        "id": "LdtyySoduLP6"
      },
      "execution_count": null,
      "outputs": []
    },
    {
      "cell_type": "markdown",
      "source": [
        "**Generating Embeddings for Chunks**"
      ],
      "metadata": {
        "id": "H6YLgQUHuMT1"
      }
    },
    {
      "cell_type": "code",
      "source": [
        "# Generate embeddings\n",
        "embedding_model = SentenceTransformer(\"all-MiniLM-L6-v2\")\n",
        "text_embeddings = embedding_model.encode(text_chunks)"
      ],
      "metadata": {
        "id": "wQEoIZaDuQ4A"
      },
      "execution_count": null,
      "outputs": []
    },
    {
      "cell_type": "markdown",
      "source": [
        "**Creating and Storing Embeddings in FAISS**"
      ],
      "metadata": {
        "id": "cPkOYirguWAN"
      }
    },
    {
      "cell_type": "code",
      "source": [
        "# Create FAISS index\n",
        "dimension = text_embeddings.shape[1]\n",
        "index = faiss.IndexFlatL2(dimension)\n",
        "index.add(np.array(text_embeddings))\n"
      ],
      "metadata": {
        "id": "bRW1_M6cubKf"
      },
      "execution_count": null,
      "outputs": []
    },
    {
      "cell_type": "markdown",
      "source": [
        "**Storing Chunks for Retrieval**"
      ],
      "metadata": {
        "id": "kY1jG1nouiBi"
      }
    },
    {
      "cell_type": "code",
      "source": [
        "# Store chunks for retrieval\n",
        "chunk_mapping = {i: text_chunks[i] for i in range(len(text_chunks))}"
      ],
      "metadata": {
        "id": "9nuPtVNLujgF"
      },
      "execution_count": null,
      "outputs": []
    },
    {
      "cell_type": "markdown",
      "source": [
        "**Retrieving Relevant Context from FAISS**"
      ],
      "metadata": {
        "id": "FhdvDU58ur97"
      }
    },
    {
      "cell_type": "code",
      "source": [
        "# Initialize Groq API\n",
        "groq_client = Groq(api_key=os.getenv(\"GROQ_API_KEY\"))\n",
        "\n",
        "# Function to retrieve top-k relevant chunks from FAISS\n",
        "def retrieve_context(query, k=3):\n",
        "    query_embedding = embedding_model.encode([query])\n",
        "    _, indices = index.search(np.array(query_embedding), k)\n",
        "    retrieved_chunks = [chunk_mapping[i] for i in indices[0] if i < len(text_chunks)]\n",
        "    return \"\\n\".join(retrieved_chunks) if retrieved_chunks else \"No relevant data found.\""
      ],
      "metadata": {
        "id": "EIKvFIuiuwjN"
      },
      "execution_count": null,
      "outputs": []
    },
    {
      "cell_type": "markdown",
      "source": [
        "**Querying Groq with Retrieved Context**"
      ],
      "metadata": {
        "id": "5kJ4EsA5u0iN"
      }
    },
    {
      "cell_type": "code",
      "source": [
        "def query_groq(prompt):\n",
        "    # Retrieve relevant chunks from FAISS\n",
        "    retrieved_context = retrieve_context(prompt)\n",
        "\n",
        "    # Create final prompt with context\n",
        "    final_prompt = f\"Use the following extracted data to answer the question:\\n\\n{retrieved_context}\\n\\nQuestion: {prompt}\\nAnswer:\"\n",
        "\n",
        "    # Query Groq API\n",
        "    response = groq_client.chat.completions.create(\n",
        "        messages=[{\"role\": \"user\", \"content\": final_prompt}],\n",
        "        model=\"mixtral-8x7b-32768\"\n",
        "    )\n",
        "    return response.choices[0].message.content\n"
      ],
      "metadata": {
        "id": "mTwukQPOtzuT"
      },
      "execution_count": null,
      "outputs": []
    },
    {
      "cell_type": "markdown",
      "source": [
        "**The 10 Queries are asked**"
      ],
      "metadata": {
        "id": "vJGcKF36vCzS"
      }
    },
    {
      "cell_type": "code",
      "source": [
        "query = \"How much did Apple spend on Research and Development in fiscal year 2018?\"\n",
        "response = query_groq(query)\n",
        "print(\"Generated Answer:\", response)\n",
        "\n",
        "query = \"How did Apple's Research and Development spending in fiscal year 2018 compare to 2017?\"\n",
        "response = query_groq(query)\n",
        "print(\"Generated Answer:\", response)\n",
        "\n",
        "query = \"What were the total iPhone sales figures (in units) for Apple in 2018?\"\n",
        "response = query_groq(query)\n",
        "print(\"Generated Answer:\", response)\n",
        "\n",
        "query = \"How did Apple's total iPhone sales figures (in units) in 2018 compare to 2017?\"\n",
        "response = query_groq(query)\n",
        "print(\"Generated Answer:\", response)\n",
        "\n",
        "query = \"How many shares did Microsoft repurchase in fiscal year 2016?\"\n",
        "response = query_groq(query)\n",
        "print(\"Generated Answer:\", response)\n",
        "\n",
        "query = \"What was the total amount Microsoft spent on share repurchases in fiscal year 2016?\"\n",
        "response = query_groq(query)\n",
        "print(\"Generated Answer:\", response)\n",
        "\n",
        "query = \"What was Apple's net sales figure for the Americas region in 2018?\"\n",
        "response = query_groq(query)\n",
        "print(\"Generated Answer:\", response)\n",
        "\n",
        "query = \"What percentage of Apple's total net sales did the Americas region represent in 2018?\"\n",
        "response = query_groq(query)\n",
        "print(\"Generated Answer:\", response)\n",
        "\n",
        "query = \"When did Microsoft acquire LinkedIn Corporation according to the quarterly information?\"\n",
        "response = query_groq(query)\n",
        "print(\"Generated Answer:\", response)\n",
        "\n",
        "query = \"What was the dividend per share declared by Microsoft in September 2015?\"\n",
        "response = query_groq(query)\n",
        "print(\"Generated Answer:\", response)\n",
        "\n",
        "query = \"What factors contributed to the increase in iPad net sales during 2018 compared to 2017?\"\n",
        "response = query_groq(query)\n",
        "print(\"Generated Answer:\", response)\n",
        "\n",
        "query = \"How much did Apple's Services segment contribute to total net sales in 2018?\"\n",
        "response = query_groq(query)\n",
        "print(\"Generated Answer:\", response)\n",
        "\n",
        "query = \"What was the year-over-year growth percentage of Apple's Services segment in 2018?\"\n",
        "response = query_groq(query)\n",
        "print(\"Generated Answer:\", response)\n",
        "\n",
        "query = \"What were the main components of Microsoft's 'Other Income (Expense), Net' for fiscal year 2018?\"\n",
        "response = query_groq(query)\n",
        "print(\"Generated Answer:\", response)\n",
        "\n",
        "query = \"What was Apple's gross margin percentage range anticipated for the first quarter of 2019?\"\n",
        "response = query_groq(query)\n",
        "print(\"Generated Answer:\", response)\n"
      ],
      "metadata": {
        "colab": {
          "base_uri": "https://localhost:8080/"
        },
        "id": "QDGHh-2-q2Pl",
        "outputId": "a5a3d3d9-989a-4c0f-944d-3d7f886d2898"
      },
      "execution_count": null,
      "outputs": [
        {
          "output_type": "stream",
          "name": "stdout",
          "text": [
            "Generated Answer: The provided data does not include the exact amount that Apple spent on Research and Development (R&D) in fiscal year 2018. However, it does mention that R&D expenses increased $665 million or 6% in fiscal year 2015 compared to fiscal year 2014. Additionally, it is stated that R&D expenses include payroll, employee benefits, stock-based compensation expense, and other headcount-related expenses associated with product development, as well as third-party development and programming costs, localization costs, and the amortization of purchased software code. Therefore, it can be inferred that R&D expenses include a wide range of costs related to product development.\n",
            "Generated Answer: Apple's Research and Development spending in fiscal year 2018 was $14,236 million, which represents a year-over-year increase of 23% compared to $11,581 million in fiscal year 2017. This growth was primarily driven by increases in headcount-related expenses and infrastructure-related innovation.\n",
            "Generated Answer: Based on the provided data, the total iPhone sales figures (in units) for Apple in 2018 were 217,722 thousand units.\n",
            "Generated Answer: Based on the data provided, Apple's total iPhone sales figures in units for 2018 were 217,722 thousand, compared to 216,756 thousand in 2017. This represents an increase of approximately 1,000 thousand units, or less than 1%. However, it's important to note that the net sales of iPhones increased by 18% during this period, which suggests that the increase in average selling prices may have outweighed the relatively small increase in unit sales.\n",
            "Generated Answer: The table provided shows the number of shares repurchased by Microsoft in each quarter of the fiscal years 2016, 2015, and 2014. However, it does not provide a total number of shares repurchased in fiscal year 2016.\n",
            "\n",
            "To answer the question, we would need to add up the number of shares repurchased in each quarter of fiscal year 2016.\n",
            "\n",
            "First quarter: 89 million shares\n",
            "Second quarter: 66 million shares\n",
            "Third quarter: 69 million shares\n",
            "Fourth quarter: 70 million shares\n",
            "\n",
            "Adding these together, we get a total of 294 million shares repurchased by Microsoft in fiscal year 2016.\n",
            "Generated Answer: The table does not provide information on share repurchases made by Microsoft in fiscal year 2016. The data provided only goes up to the year ended June 30, 2016. Therefore, it is not possible to determine the total amount Microsoft spent on share repurchases in fiscal year 2016 based on the given data.\n",
            "Generated Answer: Apple's net sales figure for the Americas region in 2018 was $112,093 million.\n",
            "Generated Answer: The Americas region represented 42% of Apple's total net sales in 2018. This information can be found in the \"Net Sales by Reportable Segment\" section of the data, where it shows that the Americas had net sales of $112,093 million in 2018, and the total net sales for that year were $265,595 million. To find the percentage of total net sales that the Americas region represented, you can divide the net sales for the Americas by the total net sales and multiply by 100. So, the calculation would be ($112,093 / $265,595) \\* 100 = 42%.\n",
            "Generated Answer: According to the quarterly information provided, Microsoft acquired LinkedIn Corporation on December 8, 2016. This is stated in the note (a) which accompanies the net income figures for the years 2016 and 2017.\n",
            "Generated Answer: The dividend per share declared by Microsoft in September 2015 was $0.36.\n",
            "Generated Answer: The increase in iPad net sales during 2018 compared to 2017 was due primarily to a different mix of iPads resulting in higher average selling prices. Additionally, the strength in foreign currencies relative to the U.S. dollar had a favorable impact on iPad net sales during 2018.\n",
            "Generated Answer: Based on the provided data, Apple's Services segment contributed $37,190 million to the total net sales in 2018, which is 14% of the total net sales for that year.\n",
            "Generated Answer: The year-over-year growth percentage of Apple's Services segment in 2018 was 24%.\n",
            "Generated Answer: The main components of Microsoft's 'Other Income (Expense), Net' for fiscal year 2018 were:\n",
            "\n",
            "1. Dividends and interest income: $2,214 million\n",
            "2. Interest expense: $(2,733) million\n",
            "3. Net recognized gains on investments: $2,399 million\n",
            "4. Net losses on derivatives: $(187) million\n",
            "5. Net losses on foreign currency remeasurements: $(218) million\n",
            "\n",
            "The total other income/(expense), net for 2018 was $2,005 million, which represented a decrease of 27% compared to 2017. This decrease was primarily due to higher interest expense on debt and the impact of foreign exchange-related items, partially offset by higher interest income.\n",
            "Generated Answer: Apple anticipated its gross margin percentage to be between 38.0% and 38.5% in the first quarter of 2019.\n"
          ]
        }
      ]
    }
  ]
}